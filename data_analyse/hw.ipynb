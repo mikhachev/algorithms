{
 "cells": [
  {
   "cell_type": "code",
   "execution_count": 20,
   "metadata": {
    "colab": {},
    "colab_type": "code",
    "id": "ak8b3KV45kVW"
   },
   "outputs": [],
   "source": [
    "import numpy as np\n",
    "import matplotlib.pyplot as plt\n",
    "%config InlineBackend.figure_format='retina'\n",
    "import warnings\n",
    "warnings.simplefilter('ignore')"
   ]
  },
  {
   "cell_type": "markdown",
   "metadata": {},
   "source": [
    "Сгенерируем простой пример для наглядности:"
   ]
  },
  {
   "cell_type": "code",
   "execution_count": 21,
   "metadata": {
    "colab": {},
    "colab_type": "code",
    "id": "i77tZbAd5plB"
   },
   "outputs": [],
   "source": [
    "X = np.array([[1, 1, 1, 1, 1,\n",
    "               1, 1, 1, 1, 1],\n",
    "              [1, 1, 2, 1, 3, \n",
    "               0, 5, 10, 1, 2]]).T"
   ]
  },
  {
   "cell_type": "code",
   "execution_count": 22,
   "metadata": {
    "colab": {
     "base_uri": "https://localhost:8080/",
     "height": 50
    },
    "colab_type": "code",
    "id": "U3vVuLOc6Us6",
    "outputId": "5faa41ba-addb-4772-b4ec-37580000e6cc"
   },
   "outputs": [
    {
     "data": {
      "text/plain": [
       "array([[ 1,  1],\n",
       "       [ 1,  1],\n",
       "       [ 1,  2],\n",
       "       [ 1,  1],\n",
       "       [ 1,  3],\n",
       "       [ 1,  0],\n",
       "       [ 1,  5],\n",
       "       [ 1, 10],\n",
       "       [ 1,  1],\n",
       "       [ 1,  2]])"
      ]
     },
     "execution_count": 22,
     "metadata": {},
     "output_type": "execute_result"
    }
   ],
   "source": [
    "X  # <- матрица \"объекты-признаки\" ([x0, x1])"
   ]
  },
  {
   "cell_type": "code",
   "execution_count": 23,
   "metadata": {
    "colab": {
     "base_uri": "https://localhost:8080/",
     "height": 34
    },
    "colab_type": "code",
    "id": "ejifaMBe6VaP",
    "outputId": "190a541b-5c6d-48f6-8982-b513de5d7606"
   },
   "outputs": [
    {
     "data": {
      "text/plain": [
       "(10, 2)"
      ]
     },
     "execution_count": 23,
     "metadata": {},
     "output_type": "execute_result"
    }
   ],
   "source": [
    "X.shape"
   ]
  },
  {
   "cell_type": "code",
   "execution_count": 24,
   "metadata": {
    "colab": {},
    "colab_type": "code",
    "id": "VsNrKi1Q6Wmh"
   },
   "outputs": [],
   "source": [
    "y = [45, 55, 50, 59, 65, 35, 75, 80, 50, 60]"
   ]
  },
  {
   "cell_type": "code",
   "execution_count": 25,
   "metadata": {},
   "outputs": [],
   "source": [
    "y_pred1 = 45*np.ones(10) + X[:,1]*7\n",
    "y_pred2 = 40*np.ones(10) + X[:,1]*8"
   ]
  },
  {
   "cell_type": "markdown",
   "metadata": {},
   "source": [
    "2. Средняя абсолютная ошибка (MAE)"
   ]
  },
  {
   "cell_type": "code",
   "execution_count": 26,
   "metadata": {},
   "outputs": [],
   "source": [
    "def calc_mae(y, y_pred):\n",
    "    return np.mean(np.abs(y - y_pred))"
   ]
  },
  {
   "cell_type": "markdown",
   "metadata": {},
   "source": [
    "3. Среднеквадратичная ошибка (MSE)"
   ]
  },
  {
   "cell_type": "code",
   "execution_count": 27,
   "metadata": {
    "colab": {},
    "colab_type": "code",
    "id": "XTn2bZIg_EBS"
   },
   "outputs": [
    {
     "name": "stdout",
     "output_type": "stream",
     "text": [
      "MSE наших моделей: 154.4, 188.6\n"
     ]
    }
   ],
   "source": [
    "mse_1 = np.mean((y - y_pred1)**2)\n",
    "mse_2 = np.mean((y - y_pred2)**2)\n",
    "print(f'MSE наших моделей: {mse_1}, {mse_2}')"
   ]
  },
  {
   "cell_type": "code",
   "execution_count": 28,
   "metadata": {},
   "outputs": [],
   "source": [
    "def calc_mse(y, y_pred):\n",
    "    return np.mean((y - y_pred)**2)"
   ]
  },
  {
   "cell_type": "markdown",
   "metadata": {},
   "source": [
    "4. RMSE"
   ]
  },
  {
   "cell_type": "code",
   "execution_count": 29,
   "metadata": {},
   "outputs": [
    {
     "name": "stdout",
     "output_type": "stream",
     "text": [
      "MSE наших моделей: 12.425779653607254, 13.733171520082315\n"
     ]
    }
   ],
   "source": [
    "rmse_1 = np.sqrt(np.mean((y - y_pred1)**2))\n",
    "rmse_2 = np.sqrt(np.mean((y - y_pred2)**2))\n",
    "print(f'MSE наших моделей: {rmse_1}, {rmse_2}')"
   ]
  },
  {
   "cell_type": "code",
   "execution_count": 32,
   "metadata": {},
   "outputs": [
    {
     "name": "stdout",
     "output_type": "stream",
     "text": [
      "[47.23214286  3.91071429]\n"
     ]
    }
   ],
   "source": [
    "W = np.linalg.inv(np.dot(X.T, X)) @ X.T @ y\n",
    "print(W)"
   ]
  },
  {
   "cell_type": "code",
   "execution_count": 33,
   "metadata": {
    "colab": {
     "base_uri": "https://localhost:8080/",
     "height": 50
    },
    "colab_type": "code",
    "id": "Yxo6vu3NDaTC",
    "outputId": "7e152226-fe88-4e14-ebee-1501abb61966"
   },
   "outputs": [
    {
     "data": {
      "text/plain": [
       "array([51.14285714, 51.14285714, 55.05357143, 51.14285714, 58.96428571,\n",
       "       47.23214286, 66.78571429, 86.33928571, 51.14285714, 55.05357143])"
      ]
     },
     "execution_count": 33,
     "metadata": {},
     "output_type": "execute_result"
    }
   ],
   "source": [
    "# прогноз модели с оптимальными параметрами:\n",
    "y_pred3 = W[0] + W[1]*X[:,1]\n",
    "y_pred3"
   ]
  },
  {
   "cell_type": "code",
   "execution_count": 34,
   "metadata": {
    "colab": {
     "base_uri": "https://localhost:8080/",
     "height": 34
    },
    "colab_type": "code",
    "id": "_WtO6lvhDmQ6",
    "outputId": "8de8b895-85d8-448e-f565-b70e93a5dd25"
   },
   "outputs": [
    {
     "data": {
      "text/plain": [
       "45.937499999999986"
      ]
     },
     "execution_count": 34,
     "metadata": {},
     "output_type": "execute_result"
    }
   ],
   "source": [
    "calc_mse(y, y_pred3)"
   ]
  },
  {
   "cell_type": "code",
   "execution_count": 35,
   "metadata": {
    "colab": {
     "base_uri": "https://localhost:8080/",
     "height": 34
    },
    "colab_type": "code",
    "id": "ul3IEwWlDp-e",
    "outputId": "7567da7c-ce56-4eaa-8c90-9979ca755b4d"
   },
   "outputs": [
    {
     "data": {
      "text/plain": [
       "6.182142857142856"
      ]
     },
     "execution_count": 35,
     "metadata": {},
     "output_type": "execute_result"
    }
   ],
   "source": [
    "calc_mae(y, y_pred3)"
   ]
  },
  {
   "cell_type": "code",
   "execution_count": 36,
   "metadata": {},
   "outputs": [],
   "source": [
    "W = np.array([0.01, 0.1])"
   ]
  },
  {
   "cell_type": "code",
   "execution_count": 37,
   "metadata": {},
   "outputs": [
    {
     "data": {
      "text/plain": [
       "array([0.11, 0.11, 0.21, 0.11, 0.31, 0.01, 0.51, 1.01, 0.11, 0.21])"
      ]
     },
     "execution_count": 37,
     "metadata": {},
     "output_type": "execute_result"
    }
   ],
   "source": [
    "y_pred = np.dot(X, W)\n",
    "y_pred"
   ]
  },
  {
   "cell_type": "code",
   "execution_count": 38,
   "metadata": {},
   "outputs": [
    {
     "data": {
      "text/plain": [
       "3423.6233"
      ]
     },
     "execution_count": 38,
     "metadata": {},
     "output_type": "execute_result"
    }
   ],
   "source": [
    "calc_mse(y, y_pred)"
   ]
  },
  {
   "cell_type": "code",
   "execution_count": 39,
   "metadata": {
    "colab": {},
    "colab_type": "code",
    "id": "DNebwUP7Fd8F"
   },
   "outputs": [],
   "source": [
    "lr = 0.01"
   ]
  },
  {
   "cell_type": "code",
   "execution_count": 40,
   "metadata": {
    "colab": {},
    "colab_type": "code",
    "id": "5DKkvmkwHdOx"
   },
   "outputs": [],
   "source": [
    "grad_0 = (1/len(y))*lr*(2*np.sum(X[:,0]*(W[0]*X[:,0] - y)))\n",
    "grad_1 = (1/len(y))*lr*(2*np.sum(X[:,1]*(W[1]*X[:,1] - y)))"
   ]
  },
  {
   "cell_type": "code",
   "execution_count": 41,
   "metadata": {
    "colab": {
     "base_uri": "https://localhost:8080/",
     "height": 34
    },
    "colab_type": "code",
    "id": "ZVRCF5P2MYI6",
    "outputId": "0b0e2f05-a23c-4bf8-f37d-b4240d2e0af0"
   },
   "outputs": [
    {
     "data": {
      "text/plain": [
       "1.1578"
      ]
     },
     "execution_count": 41,
     "metadata": {},
     "output_type": "execute_result"
    }
   ],
   "source": [
    "W[0] = W[0] - grad_0; W[0]"
   ]
  },
  {
   "cell_type": "code",
   "execution_count": 42,
   "metadata": {},
   "outputs": [
    {
     "data": {
      "text/plain": [
       "3.6688"
      ]
     },
     "execution_count": 42,
     "metadata": {},
     "output_type": "execute_result"
    }
   ],
   "source": [
    "W[1] = W[1] - grad_1; W[1]"
   ]
  },
  {
   "cell_type": "code",
   "execution_count": 43,
   "metadata": {},
   "outputs": [
    {
     "data": {
      "text/plain": [
       "array([ 4.8266,  4.8266,  8.4954,  4.8266, 12.1642,  1.1578, 19.5018,\n",
       "       37.8458,  4.8266,  8.4954])"
      ]
     },
     "execution_count": 43,
     "metadata": {},
     "output_type": "execute_result"
    }
   ],
   "source": [
    "y_pred = np.dot(X, W)\n",
    "y_pred"
   ]
  },
  {
   "cell_type": "code",
   "execution_count": null,
   "metadata": {},
   "outputs": [],
   "source": [
    "calc_mse(y, y_pred)"
   ]
  },
  {
   "cell_type": "code",
   "execution_count": null,
   "metadata": {},
   "outputs": [],
   "source": []
  },
  {
   "cell_type": "markdown",
   "metadata": {},
   "source": [
    "### Домашнее задание:"
   ]
  },
  {
   "cell_type": "markdown",
   "metadata": {
    "colab_type": "text",
    "id": "huXrhXQsZTMt"
   },
   "source": [
    "1. Подберите скорость обучения (lr) и количество итераций (epoch):"
   ]
  },
  {
   "cell_type": "code",
   "execution_count": 61,
   "metadata": {
    "colab": {
     "base_uri": "https://localhost:8080/",
     "height": 34
    },
    "colab_type": "code",
    "id": "VEXjDozNHdAo",
    "outputId": "7d12bb79-21b7-43fb-fd8e-d116a2af3bb7"
   },
   "outputs": [
    {
     "data": {
      "text/plain": [
       "(array([1. , 0.5]), 0.005)"
      ]
     },
     "execution_count": 61,
     "metadata": {},
     "output_type": "execute_result"
    }
   ],
   "source": [
    "n = X.shape[1]\n",
    "epoch = 201\n",
    "lr = 0.005\n",
    "W = np.array([1, 0.5])\n",
    "W, lr"
   ]
  },
  {
   "cell_type": "code",
   "execution_count": 62,
   "metadata": {},
   "outputs": [
    {
     "data": {
      "text/plain": [
       "2"
      ]
     },
     "execution_count": 62,
     "metadata": {},
     "output_type": "execute_result"
    }
   ],
   "source": [
    "W.shape[0]"
   ]
  },
  {
   "cell_type": "code",
   "execution_count": 63,
   "metadata": {
    "colab": {
     "base_uri": "https://localhost:8080/",
     "height": 185
    },
    "colab_type": "code",
    "id": "IDB22MQKMYaJ",
    "outputId": "4c03219e-a57c-4583-f439-6699fd0619bb"
   },
   "outputs": [
    {
     "name": "stdout",
     "output_type": "stream",
     "text": [
      "# итерация: 0, MSE: 3173.15, веса: [3.755 9.   ]\n",
      "# итерация: 50, MSE: 121.00714874850121, веса: [35.72263172  6.03603356]\n",
      "# итерация: 100, MSE: 51.32770226605233, веса: [44.14805163  4.48021532]\n",
      "# итерация: 150, MSE: 46.32453098993166, веса: [46.40572907  4.06331791]\n",
      "# итерация: 200, MSE: 45.96528986386297, веса: [47.01069683  3.95160599]\n"
     ]
    }
   ],
   "source": [
    "for i in range(epoch):\n",
    "    y_pred = np.dot(X, W)\n",
    "    err = calc_mse(y, y_pred)\n",
    "    for j in range(W.shape[0]):\n",
    "        W[j] -= lr * (1/n * 2 * np.sum(X[:,j] * (y_pred - y)))\n",
    "    if i % 50 == 0:\n",
    "        print(f'# итерация: {i}, MSE: {err}, веса: {W}')"
   ]
  },
  {
   "cell_type": "code",
   "execution_count": null,
   "metadata": {},
   "outputs": [],
   "source": [
    "#"
   ]
  },
  {
   "cell_type": "markdown",
   "metadata": {
    "colab_type": "text",
    "id": "5Qu1o4JhZYwI"
   },
   "source": [
    "*2. В этом коде мы избавляемся от итераций по весам, но тут есть ошибка, исправьте ее:"
   ]
  },
  {
   "cell_type": "code",
   "execution_count": 65,
   "metadata": {},
   "outputs": [
    {
     "data": {
      "text/plain": [
       "(array([1. , 0.5]), 0.005)"
      ]
     },
     "execution_count": 65,
     "metadata": {},
     "output_type": "execute_result"
    }
   ],
   "source": []
  },
  {
   "cell_type": "code",
   "execution_count": 92,
   "metadata": {
    "colab": {
     "base_uri": "https://localhost:8080/",
     "height": 185
    },
    "colab_type": "code",
    "id": "WZZzDCQLY4pA",
    "outputId": "28f58ade-72f2-4381-809d-2417752d56e4"
   },
   "outputs": [
    {
     "name": "stdout",
     "output_type": "stream",
     "text": [
      "# итерация: 0, MSE: 3173.15, веса: [12.255 11.755]\n",
      "# итерация: 50, MSE: 737.091826923077, веса: [11.82211538 11.32211538]\n",
      "# итерация: 100, MSE: 737.091826923077, веса: [11.82211538 11.32211538]\n",
      "# итерация: 150, MSE: 737.091826923077, веса: [11.82211538 11.32211538]\n"
     ]
    }
   ],
   "source": [
    "n = X.shape[1]\n",
    "epoch = 301\n",
    "lr = 0.005\n",
    "W = np.array([1, 0.5])\n",
    "W, lr\n",
    "for i in range(200):\n",
    "    y_pred = np.dot(X, W)\n",
    "    err = calc_mse(y, y_pred)\n",
    "    #print(y_pred - y)\n",
    "    Y = y_pred - y\n",
    "    Y = Y[:, None]\n",
    "    #print(Y)\n",
    "#     for j in range(W.shape[0]):\n",
    "#   W[j] -= lr * (1/n * 2 * np.sum(X[:, j] * (y_pred - y)))\n",
    "    W -= (lr * (1/n * 2 * np.sum(X*Y)))\n",
    "    if i % 50 == 0:\n",
    "        print(f'# итерация: {i}, MSE: {err}, веса: {W}')"
   ]
  },
  {
   "cell_type": "markdown",
   "metadata": {
    "colab": {},
    "colab_type": "code",
    "id": "_OQ4arrXMYGb"
   },
   "source": [
    "Видно, что от ошибки избавился, но результат получается другой"
   ]
  },
  {
   "cell_type": "code",
   "execution_count": null,
   "metadata": {
    "colab": {},
    "colab_type": "code",
    "id": "kGLyytFgHdco"
   },
   "outputs": [],
   "source": [
    "Y"
   ]
  },
  {
   "cell_type": "code",
   "execution_count": null,
   "metadata": {},
   "outputs": [],
   "source": [
    "y_pred-y"
   ]
  },
  {
   "cell_type": "markdown",
   "metadata": {},
   "source": [
    "Задание **3: вместо того, чтобы задавать количество итераций, задайте условие остановки алгоритма - когда ошибка за итерацию начинает изменяться ниже определенного порога"
   ]
  },
  {
   "cell_type": "code",
   "execution_count": 59,
   "metadata": {},
   "outputs": [],
   "source": [
    "MIN_CHANGE = 0.01"
   ]
  },
  {
   "cell_type": "code",
   "execution_count": 60,
   "metadata": {},
   "outputs": [
    {
     "name": "stdout",
     "output_type": "stream",
     "text": [
      "# итерация: 50, MSE: 125.0675737025576, веса: [35.41546297  6.09275462]\n",
      "# итерация: 100, MSE: 51.6192516758786, веса: [44.06574262  4.49541431]\n",
      "# итерация: 150, MSE: 46.34546502007181, веса: [46.38367353  4.06739064]\n",
      "# итерация: 166, MSE: 46.11312564988714, веса: [46.66058888  4.0162561 ]\n"
     ]
    }
   ],
   "source": [
    "#\n",
    "last_err =10**5\n",
    "epoch = 1\n",
    "lr = 0.005\n",
    "W = np.array([1, 0.5])\n",
    "while True:\n",
    "        \n",
    "    y_pred = np.dot(X, W)\n",
    "    err = calc_mse(y, y_pred)\n",
    "    if err < last_err - MIN_CHANGE:\n",
    "        #print(epoch, err)\n",
    "        for j in range(W.shape[0]):\n",
    "            W[j] -= lr * (1/n * 2 * np.sum(X[:,j] * (y_pred - y)))\n",
    "        if epoch % 50 == 0:\n",
    "            print(f'# итерация: {epoch}, MSE: {err}, веса: {W}')\n",
    "        \n",
    "    else:\n",
    "        print(f'# итерация: {epoch}, MSE: {err}, веса: {W}')\n",
    "        break\n",
    "        \n",
    "    epoch += 1\n",
    "    last_err = err\n",
    "    "
   ]
  },
  {
   "cell_type": "code",
   "execution_count": null,
   "metadata": {},
   "outputs": [],
   "source": []
  }
 ],
 "metadata": {
  "colab": {
   "collapsed_sections": [],
   "name": "Lesson1.ipynb",
   "provenance": []
  },
  "kernelspec": {
   "display_name": "Python 3",
   "language": "python",
   "name": "python3"
  },
  "language_info": {
   "codemirror_mode": {
    "name": "ipython",
    "version": 3
   },
   "file_extension": ".py",
   "mimetype": "text/x-python",
   "name": "python",
   "nbconvert_exporter": "python",
   "pygments_lexer": "ipython3",
   "version": "3.7.3"
  }
 },
 "nbformat": 4,
 "nbformat_minor": 1
}
